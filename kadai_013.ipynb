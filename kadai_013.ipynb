{
  "nbformat": 4,
  "nbformat_minor": 0,
  "metadata": {
    "colab": {
      "provenance": [],
      "authorship_tag": "ABX9TyNDG1f7IpHRKDGnf2TdcmzR",
      "include_colab_link": true
    },
    "kernelspec": {
      "name": "python3",
      "display_name": "Python 3"
    },
    "language_info": {
      "name": "python"
    }
  },
  "cells": [
    {
      "cell_type": "markdown",
      "metadata": {
        "id": "view-in-github",
        "colab_type": "text"
      },
      "source": [
        "<a href=\"https://colab.research.google.com/github/hisaki09/python-basic-kadai/blob/main/kadai_013.ipynb\" target=\"_parent\"><img src=\"https://colab.research.google.com/assets/colab-badge.svg\" alt=\"Open In Colab\"/></a>"
      ]
    },
    {
      "cell_type": "code",
      "execution_count": 19,
      "metadata": {
        "colab": {
          "base_uri": "https://localhost:8080/"
        },
        "id": "ishRaKMsB7Sf",
        "outputId": "1d61b885-fc33-49da-b37a-9f3caaedc5a5"
      },
      "outputs": [
        {
          "output_type": "stream",
          "name": "stdout",
          "text": [
            "110.0円\n"
          ]
        }
      ],
      "source": [
        "def add_two_arguments(price, shipping_fee):\n",
        "   total = price + price *shipping_fee\n",
        "   print(f\"{total}円\")\n",
        "   def is_purchased():\n",
        "    if (purchased):\n",
        "        return True\n",
        "    else:\n",
        "        return False\n",
        "    if(is_purchased()):\n",
        "      print()\n",
        "add_two_arguments(100, 0.1)\n"
      ]
    }
  ]
}
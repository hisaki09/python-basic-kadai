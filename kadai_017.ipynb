{
  "nbformat": 4,
  "nbformat_minor": 0,
  "metadata": {
    "colab": {
      "provenance": [],
      "authorship_tag": "ABX9TyNBAUQgr0WVNkbXTqFohR59",
      "include_colab_link": true
    },
    "kernelspec": {
      "name": "python3",
      "display_name": "Python 3"
    },
    "language_info": {
      "name": "python"
    }
  },
  "cells": [
    {
      "cell_type": "markdown",
      "metadata": {
        "id": "view-in-github",
        "colab_type": "text"
      },
      "source": [
        "<a href=\"https://colab.research.google.com/github/hisaki09/python-basic-kadai/blob/main/kadai_017.ipynb\" target=\"_parent\"><img src=\"https://colab.research.google.com/assets/colab-badge.svg\" alt=\"Open In Colab\"/></a>"
      ]
    },
    {
      "cell_type": "code",
      "execution_count": 25,
      "metadata": {
        "id": "TwGP2occwCB0",
        "colab": {
          "base_uri": "https://localhost:8080/"
        },
        "outputId": "05364b52-5caa-4d64-9ef8-7e7a28e73ac1"
      },
      "outputs": [
        {
          "output_type": "stream",
          "name": "stdout",
          "text": [
            "さむらいは子供\n",
            "さむらい 19\n",
            "かたなは大人\n",
            "かたな 20\n"
          ]
        }
      ],
      "source": [
        "class Human:\n",
        "    def __init__(self, name, age):\n",
        "       self.name = name\n",
        "       self.age = age\n",
        "\n",
        "    def check_adult(self):\n",
        "        if self.age >= 20:\n",
        "            print(f\"{self.name}は大人\")\n",
        "        else:\n",
        "            print(f\"{self.name}は子供\")\n",
        "\n",
        "people = [\n",
        "    Human(\"さむらい\", 19),\n",
        "    Human(\"かたな\", 20),\n",
        "]\n",
        "\n",
        "for person in people:\n",
        "    person.check_adult()\n",
        "    print(person.name, person.age)\n"
      ]
    }
  ]
}